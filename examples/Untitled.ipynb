{
 "cells": [
  {
   "cell_type": "code",
   "execution_count": 12,
   "metadata": {},
   "outputs": [],
   "source": [
    "import pandas as pd\n",
    "import numpy as np\n",
    "fields = ['TP_SEXO', 'TP_COR_RACA', 'TP_NACIONALIDADE', 'TP_ST_CONCLUSAO', 'TP_ESCOLA', 'TP_DEPENDENCIA_ADM_ESC', 'TP_ENSINO', \n",
    "          'IN_TREINEIRO', 'TP_LOCALIZACAO_ESC', \"TP_PRESENCA_CN\", \n",
    "          \"TP_PRESENCA_CH\", \"TP_PRESENCA_LC\", \"TP_PRESENCA_MT\", \"NU_NOTA_CN\", 'NU_NOTA_CH', \n",
    "          'NU_NOTA_LC', 'NU_NOTA_MT', 'TP_LINGUA', 'TP_STATUS_REDACAO', 'NU_NOTA_REDACAO', 'Q006', 'Q026']\n",
    "df = pd.read_csv('C:\\\\Users\\\\Lucas\\\\Downloads\\\\microdados_enem2018\\\\DADOS\\\\MICRODADOS_ENEM_2018.csv', \n",
    "                 sep=';', encoding='latin-1', skipinitialspace=True, usecols=fields)\n",
    "\n",
    "df.drop(df[\n",
    "    (df['TP_ST_CONCLUSAO'] != 2) | \n",
    "    (df['TP_ENSINO'] != 1) | \n",
    "    (df['IN_TREINEIRO'] == 1) |\n",
    "    (df['TP_PRESENCA_CN'] != 1) |\n",
    "    (df['TP_PRESENCA_CH'] != 1) |\n",
    "    (df['TP_PRESENCA_LC'] != 1) |\n",
    "    (df['TP_PRESENCA_MT'] != 1) |\n",
    "    (df['TP_STATUS_REDACAO'] != 1) |\n",
    "    (df['Q026'] != 'B')\n",
    "    ].index, inplace=True)\n",
    "\n",
    "df['NOTA_FINAL'] = list(map(lambda a,b,c,d, e: (a + b + c + d + e)/5, df['NU_NOTA_CN'], df['NU_NOTA_CH'], df['NU_NOTA_LC'], df['NU_NOTA_MT'], df['NU_NOTA_REDACAO']))\n",
    "df[\"TP_COR_RACA\"].replace(to_replace ={0:np.nan,1:\"Branca\",2:'Preta',3:\"Parda\", 4:'Amarela', 5:'Indígena'}, inplace=True)\n",
    "df[\"TP_NACIONALIDADE\"].replace(to_replace ={0:np.nan,1:\"Brasileiro(a)\",2:'Brasileiro(a) Naturalizado(a)',3:\"Estrangeiro(a)\", 4:'Brasileiro(a) Nato(a), nascido(a) no exterior'}, inplace=True)\n",
    "df.drop(columns=['TP_ST_CONCLUSAO', 'TP_ENSINO', 'IN_TREINEIRO', 'TP_PRESENCA_CH', 'TP_PRESENCA_LC', 'TP_PRESENCA_MT', 'TP_PRESENCA_CN', 'TP_STATUS_REDACAO', 'Q026', 'NU_NOTA_CN', 'NU_NOTA_CH', 'NU_NOTA_LC', 'NU_NOTA_MT', 'NU_NOTA_REDACAO'], inplace=True)\n",
    "df[\"TP_ESCOLA\"].replace(to_replace ={1:np.nan, 2:'Pública', 3:\"Privada\", 4:'Exterior'}, inplace=True)\n",
    "df[\"TP_LOCALIZACAO_ESC\"].replace(to_replace ={1:\"Urbana\", 2:'Rural'}, inplace=True)\n",
    "df[\"TP_LINGUA\"].replace(to_replace ={0:\"Inglês\", 1:'Espanhol'}, inplace=True)\n",
    "df['Q006'].replace(to_replace = {'A' :'Nenhuma renda.','B' : 'Até RS 954,00.',\n",
    "                                 'C' :'De RS 954,01 até RS 1.431,00.','D' : 'De RS 1.431,01 até RS 1.908,00.',\n",
    "                                 'E' :'De RS 1.908,01 até RS 2.385,00.','F' :'De RS 2.385,01 até RS 2.862,00.',\n",
    "                                 'G' :'De RS 2.862,01 até RS 3.816,00.','H' :'De RS 3.816,01 até RS 4.770,00.',\n",
    "                                 'I' :'De RS 4.770,01 até RS 5.724,00.','J' :'De RS 5.724,01 até RS 6.678,00.',\n",
    "                                 'K' :'De RS 6.678,01 até RS 7.632,00.','L' :'De RS 7.632,01 até RS 8.586,00.',\n",
    "                                 'M' :'De RS 8.586,01 até RS 9.540,00.','N' :'De RS 9.540,01 até RS 11.448,00.',\n",
    "                                 'O' :'De RS 11.448,01 até RS 14.310,00.','P' :'De RS 14.310,01 até RS 19.080,00.',\n",
    "                                 'Q' :'Mais de RS 19.080,00.'}, inplace=True)\n",
    "df['TP_DEPENDENCIA_ADM_ESC'].replace(to_replace={1:'Federal', 2:'Estadual', 3:'Municipal', 4:'Privada'}, inplace=True)"
   ]
  },
  {
   "cell_type": "code",
   "execution_count": 19,
   "metadata": {},
   "outputs": [
    {
     "name": "stdout",
     "output_type": "stream",
     "text": [
      "231644\n",
      "231479\n"
     ]
    }
   ],
   "source": [
    "print(df['TP_DEPENDENCIA_ADM_ESC'].loc[df['TP_DEPENDENCIA_ADM_ESC'] == 'Privada'].count())\n",
    "print(df['TP_ESCOLA'].loc[df['TP_ESCOLA'] == 'Exterior'].count())\n"
   ]
  },
  {
   "cell_type": "code",
   "execution_count": null,
   "metadata": {},
   "outputs": [],
   "source": []
  }
 ],
 "metadata": {
  "kernelspec": {
   "display_name": "Python 3",
   "language": "python",
   "name": "python3"
  },
  "language_info": {
   "codemirror_mode": {
    "name": "ipython",
    "version": 3
   },
   "file_extension": ".py",
   "mimetype": "text/x-python",
   "name": "python",
   "nbconvert_exporter": "python",
   "pygments_lexer": "ipython3",
   "version": "3.7.4"
  }
 },
 "nbformat": 4,
 "nbformat_minor": 2
}
