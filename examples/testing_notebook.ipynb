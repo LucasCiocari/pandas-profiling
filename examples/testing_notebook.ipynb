{
 "cells": [
  {
   "cell_type": "code",
   "execution_count": 1,
   "metadata": {},
   "outputs": [],
   "source": [
    "import pandas as pd\n",
    "import pandas_profiling\n",
    "import numpy as np"
   ]
  },
  {
   "cell_type": "code",
   "execution_count": 2,
   "metadata": {},
   "outputs": [
    {
     "data": {
      "application/javascript": [
       "require.config({\n",
       "paths: {\n",
       "d3: \"https://d3js.org/d3.v5.min\",\n",
       "}\n",
       "});\n",
       "\n",
       "require([\"d3\"], function(d3) {\n",
       "window.d3 = d3;\n",
       "});\n"
      ],
      "text/plain": [
       "<IPython.core.display.Javascript object>"
      ]
     },
     "metadata": {},
     "output_type": "display_data"
    }
   ],
   "source": [
    "%%javascript\n",
    "require.config({\n",
    "paths: {\n",
    "d3: \"https://d3js.org/d3.v5.min\",\n",
    "}\n",
    "});\n",
    "\n",
    "require([\"d3\"], function(d3) {\n",
    "window.d3 = d3;\n",
    "});"
   ]
  },
  {
   "cell_type": "code",
   "execution_count": null,
   "metadata": {},
   "outputs": [],
   "source": [
    "columns = [\"symboling\", \"normalized-losses\", \"make\", \"fuel-type\", \"aspiration\", \"num-of-doors\", \"body-style\", \"drive-wheels\", \"engine-location\", \"wheel-base\", \"length\", \"width\", \"height\",\n",
    "           \"curb-weight\", \"engine-type\", \"num-of-cylinders\", \"engine-size\", \"fuel-system\", \"bore\", \"stroke\", \"compression-ratio\", \"horsepower\", \"peak-rpm\", \"city-mpg\", \"highway-mpg\", \"price\"]\n",
    "\n",
    "df = pd.read_csv('imports-85.data', names=columns)\n",
    "\n",
    "for col in df.columns:\n",
    "    df[col] = pd.to_numeric(df[col], errors='ignore')\n",
    "\n",
    "df.replace(to_replace=[\"na\", \"?\", np.nan, \"missing\", \"not available\",\"n/a\", \"missing value\"], value=np.nan, inplace=True)\n",
    "\n",
    "pandas_profiling.ProfileReport(df)"
   ]
  },
  {
   "cell_type": "code",
   "execution_count": null,
   "metadata": {},
   "outputs": [],
   "source": [
    "columns = [\"class\", \"age\", \"menopause\", \"tumor-size\", \"inv-nodes\", \n",
    "           \"node-caps\", \"deg-malig\", \"breast\", \"breast-quad\", \"irradiat\"]\n",
    "\n",
    "df = pd.read_csv('breast-cancer.data', names=columns)\n",
    "\n",
    "df['deg-malig'].replace(to_replace={1: 'one', 2:'two', 3:'three'}, inplace=True)\n",
    "\n",
    "df.replace(to_replace=[\"na\", \"?\", np.nan, \"missing\", \"not available\",\"n/a\", \"missing value\"], value=np.nan, inplace=True)\n",
    "\n",
    "\n",
    "pandas_profiling.ProfileReport(df)"
   ]
  },
  {
   "cell_type": "code",
   "execution_count": 6,
   "metadata": {
    "scrolled": true
   },
   "outputs": [
    {
     "data": {
      "text/plain": [
       "array([nan, 'adeno', 'epidermoid', 'anaplastic'], dtype=object)"
      ]
     },
     "execution_count": 6,
     "metadata": {},
     "output_type": "execute_result"
    }
   ],
   "source": [
    "columns = [\"class\",\"age\",\"sex\",\"histologic-type\",\"degree-of-diffe\",\"bone\",\"bone-marrow\",\"lung\",\"pleura\",\"peritoneum\",\"liver\",\"brain\",\"skin\",\"neck\",\"supraclavicular\",\"axillar\",\"mediastinum\",\"abdominal\"]\n",
    "\n",
    "df = pd.read_csv('primary-tumor.data', names=columns)\n",
    "\n",
    "df.replace(to_replace=[\"na\", \"?\", np.nan, \"missing\", \"not available\",\"n/a\", \"missing value\"], value=np.nan, inplace=True)\n",
    "\n",
    "for col in df.columns:\n",
    "    df[col] = pd.to_numeric(df[col], errors='ignore')\n",
    "\n",
    "df[\"class\"].replace(to_replace= {1:\"lung\", 2:\"head & neck\", 3:\"esophasus\", 4:\"thyroid\", 5:\"stomach\", 6:\"duoden & sm.int\", 7:\"colon\", 8:\"rectum\", 9:\"anus\", 10:\"salivary glands\", 11:\"pancreas\", 12:\"gallblader\", 13:\"liver\", 14:\"kidney\", 15:\"bladder\", 16:\"testis\", 17:\"prostate\", 18:\"ovary\", 19:\"corpus uteri\", 20: \"cervix uteri\", 21:\"vagina\", 22:\"breast\"}, inplace=True)\n",
    "\n",
    "df[\"age\"].replace(to_replace ={1:\"<30\",2:\"30-59\",3:\">60\"}, inplace=True)\n",
    "df[\"sex\"].replace(to_replace ={1:\"male\",2:\"female\"}, inplace=True)\n",
    "df[\"histologic-type\"].replace(to_replace ={1.0:\"epidermoid\",2.0:\"adeno\", 3.0:\"anaplastic\"}, inplace=True)\n",
    "df[\"degree-of-diffe\"].replace(to_replace={1:\"well\", 2:\"fairly\", 3:\"poorly\"}, inplace=True)\n",
    "df[\"bone\"].replace(to_replace={1:\"yes\", 2:\"no\"}, inplace=True)\n",
    "df[\"bone-marrow\"].replace(to_replace={1:\"yes\", 2:\"no\"}, inplace=True)\n",
    "df[\"lung\"].replace(to_replace={1:\"yes\", 2:\"no\"}, inplace=True)\n",
    "df[\"pleura\"].replace(to_replace={1:\"yes\", 2:\"no\"}, inplace=True)\n",
    "df[\"peritoneum\"].replace(to_replace={1:\"yes\", 2:\"no\"}, inplace=True)\n",
    "df[\"liver\"].replace(to_replace={1:\"yes\", 2:\"no\"}, inplace=True)\n",
    "df[\"brain\"].replace(to_replace={1:\"yes\", 2:\"no\"}, inplace=True)\n",
    "df[\"skin\"].replace(to_replace={1:\"yes\", 2:\"no\"}, inplace=True)\n",
    "df[\"neck\"].replace(to_replace={1:\"yes\", 2:\"no\"}, inplace=True)\n",
    "df[\"supraclavicular\"].replace(to_replace={1:\"yes\", 2:\"no\"}, inplace=True)\n",
    "df[\"axillar\"].replace(to_replace={1:\"yes\", 2:\"no\"}, inplace=True)\n",
    "df[\"mediastinum\"].replace(to_replace={1:\"yes\", 2:\"no\"}, inplace=True)\n",
    "df[\"abdominal\"].replace(to_replace={1:\"yes\", 2:\"no\"}, inplace=True)\n",
    "df[\"histologic-type\"].unique()"
   ]
  },
  {
   "cell_type": "code",
   "execution_count": 4,
   "metadata": {},
   "outputs": [
    {
     "name": "stderr",
     "output_type": "stream",
     "text": [
      "c:\\users\\lucas\\appdata\\local\\programs\\python\\python37\\lib\\site-packages\\pandas_profiling\\describe.py:576: FutureWarning: The join_axes-keyword is deprecated. Use .reindex or .reindex_like on the result to achieve the same functionality.\n",
      "  variable_stats = pd.concat(ldesc, join_axes=pd.Index([names]), axis=1)\n"
     ]
    }
   ],
   "source": [
    "pandas_profiling.ProfileReport(df).to_file(\"../../../../Desktop/example.html\")"
   ]
  },
  {
   "cell_type": "code",
   "execution_count": null,
   "metadata": {},
   "outputs": [],
   "source": []
  }
 ],
 "metadata": {
  "kernelspec": {
   "display_name": "Python 3",
   "language": "python",
   "name": "python3"
  },
  "language_info": {
   "codemirror_mode": {
    "name": "ipython",
    "version": 3
   },
   "file_extension": ".py",
   "mimetype": "text/x-python",
   "name": "python",
   "nbconvert_exporter": "python",
   "pygments_lexer": "ipython3",
   "version": "3.7.4"
  }
 },
 "nbformat": 4,
 "nbformat_minor": 2
}
