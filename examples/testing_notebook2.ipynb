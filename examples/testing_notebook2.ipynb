{
 "cells": [
  {
   "cell_type": "code",
   "execution_count": 6,
   "metadata": {},
   "outputs": [],
   "source": [
    "import pandas as pd\n",
    "import pandas_profiling\n",
    "import numpy as np\n",
    "import json\n",
    "from jinja2 import Environment, FileSystemLoader\n",
    "\n",
    "%%javascript\n",
    "require.config({\n",
    "paths: {\n",
    "d3: \"https://d3js.org/d3.v5.min\",\n",
    "}\n",
    "});\n",
    "\n",
    "require([\"d3\"], function(d3) {\n",
    "window.d3 = d3;\n",
    "});\n",
    "\n",
    "def build_data(df):\n",
    "    count = []\n",
    "    considered_cols = []\n",
    "    last_index = 0\n",
    "    keys = {}\n",
    "\n",
    "    df.replace(to_replace=[\"na\", \"?\", np.nan, \"missing\", \"not available\",\n",
    "                           \"n/a\", \"missing value\"], value=np.nan, inplace=True)\n",
    "\n",
    "    for col in df.columns:\n",
    "        df[col] = pd.to_numeric(df[col], errors='ignore')\n",
    "\n",
    "    for col in df.columns:\n",
    "        if df[col].dtype == \"object\":\n",
    "            df[col].replace(to_replace=[\"na\", \"?\", np.nan, \"missing\", \"not available\",\n",
    "                                        \"n/a\", \"missing value\"], value=\"missing value\", inplace=True)\n",
    "            if df[col].unique().size < 25:\n",
    "                considered_cols.append(col)\n",
    "                keys[col] = {\"values\": df[col].unique().tolist(\n",
    "                ), \"start_i\": last_index, \"end_i\": last_index + df[col].unique().size}\n",
    "                last_index = last_index + df[col].unique().size\n",
    "                for item in df[col].unique():\n",
    "                    count.append([col, item])\n",
    "    data_array = np.zeros((len(count), len(count)))\n",
    "\n",
    "    for row in range(df.shape[0]):\n",
    "        for col in range(df.shape[1]):\n",
    "            for i in range(col+1, df.shape[1]):\n",
    "                if df.columns[col] in considered_cols and df.columns[i] in considered_cols:\n",
    "                    data_array[count.index([df.columns[col], df.iloc[row, col]]), count.index(\n",
    "                        [df.columns[i], df.iloc[row, i]])] += 1\n",
    "\n",
    "    data_array += np.transpose(data_array)\n",
    "    return keys, data_array.tolist()\n",
    "\n",
    "file_loader = FileSystemLoader(\"templates\")\n",
    "env = Environment(loader=file_loader)\n",
    "\n",
    "template = env.get_template(\"bid.html\")\n",
    "\n",
    "keys, data_array = build_data(df)\n",
    "\n",
    "output = template.render(data=keys, full_matrix=data_array)\n",
    "\n",
    "with open(\"bid_out.html\", \"w\") as result_file:\n",
    "    result_file.write(output)"
   ]
  },
  {
   "cell_type": "code",
   "execution_count": null,
   "metadata": {},
   "outputs": [],
   "source": [
    "%%javascript\n",
    "require.config({\n",
    "paths: {\n",
    "d3: \"https://d3js.org/d3.v5.min\",\n",
    "}\n",
    "});\n",
    "\n",
    "require([\"d3\"], function(d3) {\n",
    "window.d3 = d3;\n",
    "});"
   ]
  },
  {
   "cell_type": "code",
   "execution_count": null,
   "metadata": {},
   "outputs": [],
   "source": [
    "import pandas as pd\n",
    "import pandas_profiling\n",
    "import numpy as np\n",
    "\n",
    "df = pd.read_csv('<arquivo>.csv')\n",
    "\n",
    "pandas_profiling.ProfileReport(df)\n"
   ]
  }
 ],
 "metadata": {
  "kernelspec": {
   "display_name": "Python 3.7.4 64-bit",
   "language": "python",
   "name": "python37464bit11f5c42302c1420cb1fc0c5b50010bd0"
  },
  "language_info": {
   "codemirror_mode": {
    "name": "ipython",
    "version": 3
   },
   "file_extension": ".py",
   "mimetype": "text/x-python",
   "name": "python",
   "nbconvert_exporter": "python",
   "pygments_lexer": "ipython3",
   "version": "3.7.7-final"
  }
 },
 "nbformat": 4,
 "nbformat_minor": 2
}